{
 "cells": [
  {
   "cell_type": "markdown",
   "id": "c435b4c3",
   "metadata": {},
   "source": [
    "# Code02-04.py"
   ]
  },
  {
   "cell_type": "code",
   "execution_count": 3,
   "id": "cb051b35",
   "metadata": {},
   "outputs": [
    {
     "name": "stdout",
     "output_type": "stream",
     "text": [
      "첫 번째 숫자를 입력하세요 : 1\n",
      "두 번째 숫자를 입력하세요 : 2\n",
      "1 + 2 = 3\n",
      "1 - 2 = -1\n",
      "1 * 2 = 2\n",
      "1 / 2 = 0.5\n"
     ]
    }
   ],
   "source": [
    "a= int(inputt(\"첫 번째 숫자를 입력하세요 : \"))\n",
    "b= int(input(\"두 번째 숫자를 입력하세요 : \")) \n",
    "result = a+b\n",
    "print(a,\"+\",b,\"=\"resultlt)\n",
    "\n",
    "result =a-b\n",
    "print(a,\"-\",b,\"=\",result)\n",
    "\n",
    "result =a*b\n",
    "print(a,\"*\",b,\"=\",result)\n",
    "\n",
    "result =a / b\n",
    "print(a,\"/\",b,\"=\",result)"
   ]
  },
  {
   "cell_type": "markdown",
   "id": "ebf012ac",
   "metadata": {},
   "source": [
    "# Code02-07.py"
   ]
  },
  {
   "cell_type": "code",
   "execution_count": 2,
   "id": "57553b12",
   "metadata": {},
   "outputs": [],
   "source": [
    "import turtle\n",
    "import random\n",
    "\n",
    "##함수 선언 부분##\n",
    "def screenLeftClick(x,y):\n",
    "    global r, g, b\n",
    "    turtle.pencolor((r,g,b))\n",
    "    turtle.pendown()\n",
    "    turtle.goto(x,y)\n",
    "    \n",
    "def screenRightClick(x,y):\n",
    "    turtle.penup()\n",
    "    turtle.goto(x,y)\n",
    "    \n",
    "def screenMidClick(x,y):\n",
    "    global r, g, b\n",
    "    tSize = random.randrange(1,10)\n",
    "    turtle.shapesize(tSize)\n",
    "    r = random.random()\n",
    "    g = random.random()\n",
    "    b = random.random()\n",
    "    \n",
    "## 변수 선언 부분 ##\n",
    "pSize =10\n",
    "r,g,b = 0.0, 0.0, 0.0\n",
    "\n",
    "## 메인 코드 부분 ##\n",
    "turtle.title('거북이로 그림 그리기')\n",
    "turtle.shape('turtle')\n",
    "turtle.pensize(pSize)\n",
    "\n",
    "turtle.onscreenclick(screenLeftClick,1)\n",
    "turtle.onscreenclick(screenMidClick,2)\n",
    "turtle.onscreenclick(screenRightClick,3)\n",
    "\n",
    "turtle.done()"
   ]
  },
  {
   "cell_type": "code",
   "execution_count": null,
   "id": "f74d1d2f",
   "metadata": {},
   "outputs": [],
   "source": []
  }
 ],
 "metadata": {
  "kernelspec": {
   "display_name": "Python 3 (ipykernel)",
   "language": "python",
   "name": "python3"
  },
  "language_info": {
   "codemirror_mode": {
    "name": "ipython",
    "version": 3
   },
   "file_extension": ".py",
   "mimetype": "text/x-python",
   "name": "python",
   "nbconvert_exporter": "python",
   "pygments_lexer": "ipython3",
   "version": "3.11.4"
  }
 },
 "nbformat": 4,
 "nbformat_minor": 5
}
