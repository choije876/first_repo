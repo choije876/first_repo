{
 "cells": [
  {
   "cell_type": "code",
   "execution_count": 3,
   "id": "72784607",
   "metadata": {},
   "outputs": [
    {
     "name": "stdout",
     "output_type": "stream",
     "text": [
      "점수를 입력하세요 : 55\n",
      "불합격입니다. ^^\n"
     ]
    }
   ],
   "source": [
    "# Q4. 다음은 장학생, 합격, 불합격으로 구분하는 중첩 if 문입니다. 이를 if~elif문으로 변경하세요.\n",
    "score =int(input(\"점수를 입력하세요 : \"))\n",
    "if score>=90:\n",
    "    print(\"장학생\", end=\"\")\n",
    "elif score>=60:\n",
    "    print(\"합격\",end=\"\")\n",
    "else :\n",
    "    print(\"불합격\",end=\"\")\n",
    "\n",
    "print(\"입니다. ^^\")\n"
   ]
  },
  {
   "cell_type": "code",
   "execution_count": 9,
   "id": "c1775d3f",
   "metadata": {},
   "outputs": [
    {
     "name": "stdout",
     "output_type": "stream",
     "text": [
      "홀수\n"
     ]
    }
   ],
   "source": [
    "#Q5. 다음 코드의 2~5행을 삼항 연산자로 변경한 것으로 올은 것을 고르세요.\n",
    "num =5\n",
    "res ='짝수' if num%2 == 0 else '홀수'\n",
    "print(res)"
   ]
  },
  {
   "cell_type": "code",
   "execution_count": 13,
   "id": "6324cd60",
   "metadata": {},
   "outputs": [
    {
     "name": "stdout",
     "output_type": "stream",
     "text": [
      "[100, 777, 300, 400, 500]\n",
      "[100, [444, 555], 300, 400, 500]\n",
      "[100, 444, 555, 500]\n",
      "[100, 444]\n"
     ]
    }
   ],
   "source": [
    "#Q6. 다음 각 코드를 실행한 후에, nn에 저장된 값을 쓰세요. 단 nn은 항상 보기의 5개 데이터가 저장되어 있다고 가정합니다.\n",
    "nn= [100,200,300,400,500]\n",
    "#(1) \n",
    "nn[1]=777 ; print(nn)\n",
    "#(2)\n",
    "nn[1]=[444,555] ;print(nn)\n",
    "#(3)\n",
    "nn[1:4]=[444,555] ;print(nn)\n",
    "#(4)\n",
    "nn[2:]=[] ;print(nn)"
   ]
  },
  {
   "cell_type": "code",
   "execution_count": 17,
   "id": "cbff241b",
   "metadata": {},
   "outputs": [
    {
     "name": "stdout",
     "output_type": "stream",
     "text": [
      "23088\n"
     ]
    }
   ],
   "source": [
    "#8. 다음은 for 문을 사용해서 1234부터 4567까지 444의 배수의 합계를 구하는 코드입니다. while 문으로 변경해서 코드를 다시 작성하세요.\n",
    "hap=0\n",
    "n=1234\n",
    "while n <= 4568:\n",
    "    if n%444 ==0:\n",
    "        hap+=n\n",
    "    n=n+1 \n",
    "    \n",
    "        \n",
    "print(hap)"
   ]
  },
  {
   "cell_type": "code",
   "execution_count": 6,
   "id": "d7ca3454",
   "metadata": {},
   "outputs": [],
   "source": [
    "#9. for 문을 사용해서 3333부터 9999까지 숫자 중에서 1234의 배수의 합께를 구하되 합계가 100000이 넘기 직전까지만 합께를 구하는 코드 작성.\n",
    "#단 코드에는 continue와 break가 모두 사용해서 작성\n",
    "\n",
    "for num in range(3333,10000):\n",
    "    num %1234 ==0: continue \n",
    "\n",
    "    summ += num\n",
    "    if summ>=10000:\n",
    "        break"
   ]
  },
  {
   "cell_type": "code",
   "execution_count": 18,
   "id": "3d563a11",
   "metadata": {},
   "outputs": [
    {
     "name": "stdout",
     "output_type": "stream",
     "text": [
      "[[2, 4], [3, 6]]\n"
     ]
    }
   ],
   "source": [
    "#14. 다음 코드를 실행한 후 myData에 저장된 값이 무엇인지 쓰세요.\n",
    "myData =[[n*m for n in range(1,3)] for m in range(2,4)]\n",
    "print(myData)"
   ]
  },
  {
   "cell_type": "code",
   "execution_count": 19,
   "id": "f671ae3d",
   "metadata": {},
   "outputs": [
    {
     "ename": "SyntaxError",
     "evalue": "'[' was never closed (283767600.py, line 2)",
     "output_type": "error",
     "traceback": [
      "\u001b[1;36m  Cell \u001b[1;32mIn[19], line 2\u001b[1;36m\u001b[0m\n\u001b[1;33m    nn = [100,200,300,400,500\u001b[0m\n\u001b[1;37m         ^\u001b[0m\n\u001b[1;31mSyntaxError\u001b[0m\u001b[1;31m:\u001b[0m '[' was never closed\n"
     ]
    }
   ],
   "source": [
    "#5 다음 각 코드가 출력하는 것을 쓰세요.\n",
    "nn = [100,200,300,400,500\n",
    "#(1)\n",
    "print(nn[4])\n",
    "#(2)\n",
    "print(nn[-1])\n",
    "#(3)\n",
    "print(nn[-2])\n",
    "#(4)\n",
    "print(nn[1:4])\n",
    "#(5)\n",
    "print(nn[0:1])\n",
    "#(6)\n",
    "print(nn[2:-1])\n",
    "#(7)\n",
    "print(nn[0::2])\n",
    "#(8)\n",
    "print(nn[::-1])\n",
    "#(9)\n",
    "print(nn[::-2])\n",
    "      "
   ]
  },
  {
   "cell_type": "code",
   "execution_count": null,
   "id": "8efe4490",
   "metadata": {},
   "outputs": [],
   "source": []
  },
  {
   "cell_type": "code",
   "execution_count": null,
   "id": "b7f205db",
   "metadata": {},
   "outputs": [],
   "source": []
  },
  {
   "cell_type": "code",
   "execution_count": null,
   "id": "27a54c57",
   "metadata": {},
   "outputs": [],
   "source": []
  }
 ],
 "metadata": {
  "kernelspec": {
   "display_name": "Python 3 (ipykernel)",
   "language": "python",
   "name": "python3"
  },
  "language_info": {
   "codemirror_mode": {
    "name": "ipython",
    "version": 3
   },
   "file_extension": ".py",
   "mimetype": "text/x-python",
   "name": "python",
   "nbconvert_exporter": "python",
   "pygments_lexer": "ipython3",
   "version": "3.11.4"
  }
 },
 "nbformat": 4,
 "nbformat_minor": 5
}
