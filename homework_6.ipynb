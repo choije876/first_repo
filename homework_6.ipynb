{
 "cells": [
  {
   "cell_type": "code",
   "execution_count": 11,
   "id": "5fdf094d",
   "metadata": {},
   "outputs": [
    {
     "name": "stdout",
     "output_type": "stream",
     "text": [
      "입력 함수: input(),read(), readline(),readlines()\n",
      "출력 함수: print(),write(), writeline()\n",
      "정답: 파일열기> 파일 읽기> 파일 쓰기> 파일 닫기\n",
      "먼것 : 1.생략하면 쓰기 모드가 기본으로 설정된다.\n",
      "       3.a는 쓰기 모드이다.기존 파일 있으면 삭제하고 새로 만든다-> 쓰기 모드이고, 기존 파일에 이어서 만든다\n",
      "       6.tb는 텍스트 파일 겸 이진 파일 모드 공용이다.-> 텍스트파일과 이진 파일을 겸할 수 없다.\n"
     ]
    }
   ],
   "source": [
    "# Q1. 다음 보기를 입력과 관련된 함수와 출력된 관련된 함수를 분류하세요.\n",
    "print(\"입력 함수: input(),read(), readline(),readlines()\")\n",
    "print(\"출력 함수: print(),write(), writeline()\")\n",
    "\n",
    "#Q2. 다음은 파일의 처리단계입니다 순서대로 나열한 것이 맞는 것을 고르세요.\n",
    "print(\"정답: 파일열기> 파일 읽기> 파일 쓰기> 파일 닫기\")\n",
    "\n",
    "# Q3.파일의 열기 모드에 대한 설명입니다. 거리가 먼것을 모두 고르세요.\n",
    "print(\"먼것 : 1.생략하면 쓰기 모드가 기본으로 설정된다.\\n\",\n",
    "      \"      3.a는 쓰기 모드이다.기존 파일 있으면 삭제하고 새로 만든다-> 쓰기 모드이고, 기존 파일에 이어서 만든다\\n\",\n",
    "      \"      6.tb는 텍스트 파일 겸 이진 파일 모드 공용이다.-> 텍스트파일과 이진 파일을 겸할 수 없다.\"\n",
    "      )"
   ]
  },
  {
   "cell_type": "code",
   "execution_count": 12,
   "id": "7b55878f",
   "metadata": {},
   "outputs": [
    {
     "name": "stdout",
     "output_type": "stream",
     "text": [
      "happy\n"
     ]
    }
   ],
   "source": [
    "# Q4. 다음은 data1.txt 파일에서 1개 행만 읽어서 출력하는 코드입니다. 빈칸을 채우세요.\n",
    "inFp= open(\"./untitled.txt\",\"r\")\n",
    "\n",
    "inStr =inFp.readline()\n",
    "print(inStr,end=\"\")\n",
    "\n",
    "inFp.close()"
   ]
  },
  {
   "cell_type": "code",
   "execution_count": 17,
   "id": "9b0510ea",
   "metadata": {},
   "outputs": [],
   "source": [
    "# Q6. 다음은 파일을 복사하는 코드입니다. 빈칸을 채우세요.\n",
    "\n",
    "inFp = open(\"./untitled.txt\",\"r\")\n",
    "outFp = open(\"./data3.txt\",\"w\")\n",
    "\n",
    "inList = inFp.readlines()\n",
    "for inStr in inList:\n",
    "    outFp.writelines(inStr)\n",
    "        \n",
    "inFp.close()\n",
    "outFp.close()"
   ]
  },
  {
   "cell_type": "code",
   "execution_count": null,
   "id": "3c43477f",
   "metadata": {},
   "outputs": [],
   "source": []
  }
 ],
 "metadata": {
  "kernelspec": {
   "display_name": "Python 3 (ipykernel)",
   "language": "python",
   "name": "python3"
  },
  "language_info": {
   "codemirror_mode": {
    "name": "ipython",
    "version": 3
   },
   "file_extension": ".py",
   "mimetype": "text/x-python",
   "name": "python",
   "nbconvert_exporter": "python",
   "pygments_lexer": "ipython3",
   "version": "3.10.9"
  }
 },
 "nbformat": 4,
 "nbformat_minor": 5
}
