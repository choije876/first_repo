{
 "cells": [
  {
   "cell_type": "markdown",
   "id": "9905bcd7",
   "metadata": {},
   "source": [
    "\n",
    "# Assignment1"
   ]
  },
  {
   "cell_type": "code",
   "execution_count": 5,
   "id": "d9417653",
   "metadata": {},
   "outputs": [
    {
     "name": "stdout",
     "output_type": "stream",
     "text": [
      "P$y$t$h$o$n$"
     ]
    }
   ],
   "source": [
    "#5. 문자열의 중간마다 $를 끼워넣는 코드입니다. 빈칸을 채우세요\n",
    "\n",
    "ss= 'Python'\n",
    "for i in range(0,len(ss)):\n",
    "    print(ss[i] +'$', end='')\n"
   ]
  },
  {
   "cell_type": "code",
   "execution_count": 8,
   "id": "0c20a1a4",
   "metadata": {},
   "outputs": [
    {
     "name": "stdout",
     "output_type": "stream",
     "text": [
      "파이썬CookBook열공중\n"
     ]
    }
   ],
   "source": [
    "#11. 입력된 문자열 중에서 한글과 영문자만 남기는 프로그램을 작성하세요.\n",
    "## 예 ) 문자열 -> 파이썬###CookBook$$$@@@열공중1234\n",
    "##     한글/영문자만 남김-> 파이썬CookBook열공중\n",
    "\n",
    "string = \"파이썬###CookBook$$$@@@열공중1234\"\n",
    "\n",
    "# Filter out only Korean and English characters from the string\n",
    "filtered_string = \"\".join(char for char in string if char.isalpha())\n",
    "\n",
    "print(filtered_string)"
   ]
  },
  {
   "cell_type": "code",
   "execution_count": 10,
   "id": "a5bb162f",
   "metadata": {},
   "outputs": [
    {
     "name": "stdout",
     "output_type": "stream",
     "text": [
      "nohtyP\n"
     ]
    }
   ],
   "source": [
    "#9. 문자열을 반대의 순서로 출력하는 코드입니다. 빈칸을 채우세요.\n",
    "\n",
    "inStr, outStr = \"Python\",\"\"\n",
    "strlen =len(inStr)\n",
    "\n",
    "for i in range(0,strlen):\n",
    "    outStr += inStr[strlen-i-1]\n",
    "    \n",
    "print(outStr)"
   ]
  },
  {
   "cell_type": "code",
   "execution_count": null,
   "id": "114307bc",
   "metadata": {},
   "outputs": [],
   "source": [
    "#13 심화문제. [프로그램1]를 변경해서 다음과 같이 글자가 나선형으로 안쪾으로 써지도록 코딩해보세요.\n",
    "##힌트 1. 화면을 500x500 정도로 하고, 중심에서 반지름은 200정도로 한다. 또 글자의 크기는 20정도로 고정한다.\n",
    "##힌트 2. 2바퀴를 돌린다면 360*2도 에서 문자열의 개수만큼 나눠서 각도를 회전시키면서 글자를 쓴다.\n",
    "##힌트 3. 거리와 각도로 좌표를 구하는 공식은 다음과 같다. : X 좌표=거리*cos(각도), Y좌표=거리*sin(각도)\n",
    "##힌트 4. cos() 및 sin() 함수의 각도는 라디안값으로 처리해야한다.\n",
    "import turtle\n",
    "import random\n",
    "from tkinter.simpledialog import *\n",
    "import math\n",
    "\n",
    " \n",
    "## 전역 변수 선언 부분 ##\n",
    "inStr = ''\n",
    "swidth, sheight = 500, 500\n",
    "x, y  = 0, 0\n",
    "pSize = 20\n",
    "radius, angle, radian = 200, 0, 0\n",
    " \n",
    "\n",
    "## 메인 코드 부분 ##\n",
    "turtle.title('거북이가 글자쓰기')\n",
    "turtle.shape('turtle')\n",
    "turtle.setup(width = swidth + 50, height = sheight + 50)\n",
    "turtle.screensize(swidth, sheight)\n",
    "turtle.penup()\n",
    "\n",
    "inStr = askstring('문자열 입력', '거북이 쓸 문자열을 입력')\n",
    "count = len(inStr)\n",
    "\n",
    "angle = 360 * 2/ count  # 문자열의 길이로 각도 설정\n",
    "\n",
    "\n",
    "for ch in inStr :\n",
    "    \n",
    "    radian = 3.14*angle/180\n",
    "    x = radius*math.cos(radian)\n",
    "    y = radius*math.sin(radian)\n",
    "    #setting random color \n",
    "    r = random.random()\n",
    "    g = random.random()\n",
    "    b = random.random()\n",
    "    turtle.goto(x, y)\n",
    "    turtle.pencolor((r, g, b))\n",
    "    turtle.write(ch, font=('맑은 고딕', pSize, 'bold'))\n",
    "    angle += 360 * 2 / count \n",
    "    radius = radius - 5 \n",
    "    \n",
    "\n",
    "turtle.done()"
   ]
  },
  {
   "cell_type": "code",
   "execution_count": 4,
   "id": "e3244db2",
   "metadata": {},
   "outputs": [
    {
     "data": {
      "image/png": "[encoded data removed]",
      "text/plain": [
       "<IPython.core.display.Image object>"
      ]
     },
     "execution_count": 4,
     "metadata": {},
     "output_type": "execute_result"
    }
   ],
   "source": [
    "from IPython.display import Image\n",
    "Image(\"./KakaoTalk_20240403_172008440.png\")"
   ]
  },
  {
   "cell_type": "markdown",
   "id": "aa97ad06",
   "metadata": {},
   "source": [
    "# Assignment2"
   ]
  },
  {
   "cell_type": "code",
   "execution_count": 11,
   "id": "0bb43ec8",
   "metadata": {},
   "outputs": [
    {
     "name": "stdout",
     "output_type": "stream",
     "text": [
      "600\n"
     ]
    }
   ],
   "source": [
    "#3. 다음 코드에서 빈칸을 채우세요.\n",
    "\n",
    "def plus(v1,v2,v3):\n",
    "    result=0\n",
    "    result=v1+v2+v3\n",
    "    return result\n",
    "    \n",
    "hap = plus(100,200,300)\n",
    "print(hap)"
   ]
  },
  {
   "cell_type": "code",
   "execution_count": 12,
   "id": "86669219",
   "metadata": {},
   "outputs": [
    {
     "name": "stdout",
     "output_type": "stream",
     "text": [
      "100\n",
      "10\n"
     ]
    }
   ],
   "source": [
    "#4. 다음에서 출력되는 값을 예상해 보세요.\n",
    "def f1():\n",
    "    print(var)\n",
    "\n",
    "def f2():\n",
    "    var=10\n",
    "    print(var)\n",
    "    \n",
    "var=100\n",
    "f1()\n",
    "f2()"
   ]
  },
  {
   "cell_type": "code",
   "execution_count": 15,
   "id": "cb7c11b8",
   "metadata": {},
   "outputs": [
    {
     "name": "stdout",
     "output_type": "stream",
     "text": [
      "5050\n"
     ]
    }
   ],
   "source": [
    "#11. 1부터 100까지의 합계(=5050)을 구하는 재귀 함수를 사용한 코드입니다. 재귀함수의 빈칸을 완성하세요.\n",
    "\n",
    "def addNumber(num):\n",
    "    i=1\n",
    "    summ=0\n",
    "    while i <= 100:\n",
    "        summ+=i\n",
    "        i+=1\n",
    "    return summ\n",
    "    \n",
    "print(addNumber(100))\n"
   ]
  },
  {
   "cell_type": "code",
   "execution_count": 6,
   "id": "aa849f60",
   "metadata": {},
   "outputs": [
    {
     "name": "stdout",
     "output_type": "stream",
     "text": [
      "매개변수 없이 호출 ==> 6\n",
      "매개변수가 1개로 호출 ==> 6\n",
      "매개변수가 2개로 호출 ==> 6\n",
      "매개변수가 3개로 호출 ==> 6\n"
     ]
    }
   ],
   "source": [
    "#8. 다음은 3개의 매개변수 중 기본값을 2개 설정하는 코드입니다. 빈칸을 채우세요.\n",
    "\n",
    "def myFunc():\n",
    "    p1=p2=p3=2\n",
    "    ret = p1+p2+p3\n",
    "    return ret\n",
    "\n",
    "print(\"매개변수 없이 호출 ==>\", myFunc())\n",
    "\n",
    "def myFunc(p1,p2=2,p3=3):\n",
    "    ret = p1+p2+p3\n",
    "    return ret\n",
    "print(\"매개변수가 1개로 호출 ==>\", myFunc(1))\n",
    "print(\"매개변수가 2개로 호출 ==>\", myFunc(1,2))\n",
    "print(\"매개변수가 3개로 호출 ==>\", myFunc(1,2,3))"
   ]
  },
  {
   "cell_type": "code",
   "execution_count": null,
   "id": "63d99640",
   "metadata": {},
   "outputs": [],
   "source": []
  },
  {
   "cell_type": "code",
   "execution_count": null,
   "id": "b10e5fcc",
   "metadata": {},
   "outputs": [],
   "source": []
  }
 ],
 "metadata": {
  "kernelspec": {
   "display_name": "Python 3 (ipykernel)",
   "language": "python",
   "name": "python3"
  },
  "language_info": {
   "codemirror_mode": {
    "name": "ipython",
    "version": 3
   },
   "file_extension": ".py",
   "mimetype": "text/x-python",
   "name": "python",
   "nbconvert_exporter": "python",
   "pygments_lexer": "ipython3",
   "version": "3.11.4"
  }
 },
 "nbformat": 4,
 "nbformat_minor": 5
}
